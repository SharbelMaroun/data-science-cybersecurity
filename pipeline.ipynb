{
 "cells": [
  {
   "cell_type": "markdown",
   "id": "8536fba6",
   "metadata": {},
   "source": [
    "I chose a dataset of Bitcoin addresses linked to ransomware attacks because it combines the fields of cryptography and blockchain with cybersecurity, and i think that the cryptography is an interesting subject.\n",
    "The dataset enables a good analysis of address features and their economic activity, detection of anomalies, building models to identify malicious addresses, and exploring behavioral patterns of ransomware attacks.\n",
    "Also, since it's based on real cybersecurity research, the analysis feels practical and relevant to real-world scenarios.\n",
    "\n",
    "System Stage:\n",
    "\n",
    "File Name: BitcoinHeistData\n",
    "\n",
    "File Source: Kaggle\n",
    "\n",
    "Link to the data set: https://www.kaggle.com/datasets/sapere0/bitcoinheist-ransomware-dataset\n",
    "\n",
    "Size: 224MB\n",
    "\n",
    "Type: CSV\n",
    "\n",
    "Number Of Lines: 1,048,575\n",
    "\n",
    "### Dataset Column Descriptions (BitcoinHeistData.csv)\n",
    "\n",
    "- **address**: The Bitcoin wallet address that received money. These addresses are usually used by ransomware attackers.\n",
    "\n",
    "- **year**: The year when the address was last active in the dataset.\n",
    "\n",
    "- **day**: The day of the year (1 to 365) when the address appeared in the snapshot. Day 1 = Jan 1st, Day 365 = Dec 31st.\n",
    "\n",
    "- **length**: Represents the number of \"mixing rounds\", how often coins were sent and received through new addresses.\n",
    "\n",
    "- **weight**: Measures how much coin merging happened. If many small inputs were combined into one output, the weight will be high.\n",
    "\n",
    "- **count**: Number of transactions that merged multiple sources of funds.\n",
    "\n",
    "- **looped**: Number of full coin \"loops\", when coins were split, sent through different paths, and then merged back into one address. This can be a sign of laundering.\n",
    "\n",
    "- **neighbors**: Number of other Bitcoin addresses that sent money to or received money from this address. High values suggest the address is part of a wider transaction network.\n",
    "\n",
    "- **income**: Total amount of money received by the address, in satoshis (1 Bitcoin = 100 million satoshis). This shows how much ransom money was collected.\n",
    "\n",
    "- **label**: The name of the ransomware family that used this address (`cryptolocker`, `cerber`, ...). If it says `white`, the address is not known to be ransomware.\n",
    "\n",
    "I found 1 version on kaggle."
   ]
  },
  {
   "cell_type": "code",
   "execution_count": null,
   "id": "102b5ec9",
   "metadata": {
    "vscode": {
     "languageId": "plaintext"
    }
   },
   "outputs": [],
   "source": []
  }
 ],
 "metadata": {
  "language_info": {
   "name": "python"
  }
 },
 "nbformat": 4,
 "nbformat_minor": 5
}
